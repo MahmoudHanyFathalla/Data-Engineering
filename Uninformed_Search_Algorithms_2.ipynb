{
  "cells": [
    {
      "cell_type": "markdown",
      "metadata": {
        "id": "nBiH6yvFPopN"
      },
      "source": [
        "# Uninformed Search Algorithms\n",
        "* BFS : Breadth-First Search\n",
        "* DFS : Depth-First Search\n",
        "* UCS : Uniform-Cost Search"
      ]
    },
    {
      "cell_type": "markdown",
      "metadata": {
        "id": "GS_ESwihP8NC"
      },
      "source": [
        "## BFS"
      ]
    },
    {
      "cell_type": "code",
      "execution_count": null,
      "metadata": {
        "colab": {
          "base_uri": "https://localhost:8080/"
        },
        "id": "vCHnA4qJTqAn",
        "outputId": "accb43be-2c8c-4eaa-dea6-ab26cd9254e1"
      },
      "outputs": [
        {
          "output_type": "stream",
          "name": "stdout",
          "text": [
            "BFS: A B C E D F "
          ]
        }
      ],
      "source": [
        "graph = {\n",
        "    'A' : ['B', 'C','E'],\n",
        "    'B' : ['A', 'C'],\n",
        "    'C' : ['A','B', 'D'],\n",
        "    'D' : ['C', 'E', 'F'],\n",
        "    'E' : ['A', 'D'],\n",
        "    'F' : ['D']\n",
        "}\n",
        "\n",
        "start = 'A'\n",
        "\n",
        "def bfs(graph, start):\n",
        "\n",
        "  visited = [start]\n",
        "  queue = [start]\n",
        "\n",
        "  while queue:\n",
        "\n",
        "    front = queue.pop(0)\n",
        "\n",
        "    print(front, end = ' ')\n",
        "\n",
        "    for neighbor in graph[front]:\n",
        "      if neighbor not in visited:\n",
        "        queue.append(neighbor)\n",
        "        visited.append(neighbor)\n",
        "\n",
        "print(\"BFS:\", end=' ')\n",
        "bfs(graph, start)"
      ]
    },
    {
      "cell_type": "code",
      "source": [
        "tree = {\n",
        "    'S': ['A', 'B'],\n",
        "    'A': ['C', 'D'],\n",
        "    'B': ['E'],\n",
        "    'C': ['F'],\n",
        "    'E': ['G'],\n",
        "    'D': [],\n",
        "    'F': [],\n",
        "    'G': []\n",
        "}\n",
        "\n",
        "start = 'S'\n",
        "\n",
        "def bfs_tree(tree, start):\n",
        "\n",
        "    visited = [start]\n",
        "    queue = [start]\n",
        "\n",
        "    while queue:\n",
        "\n",
        "        front = queue.pop(0)\n",
        "\n",
        "        print(front, end=' ')\n",
        "\n",
        "        for neighbor in tree[front]:\n",
        "            if neighbor not in visited:\n",
        "                queue.append(neighbor)\n",
        "                visited.append(neighbor)\n",
        "\n",
        "print(\"BFS Tree:\", end=' ')\n",
        "bfs_tree(tree, start)\n"
      ],
      "metadata": {
        "colab": {
          "base_uri": "https://localhost:8080/"
        },
        "id": "Sqkdzv2UZJ5y",
        "outputId": "667c5cff-3001-4eb6-d7e4-e280d202cddb"
      },
      "execution_count": null,
      "outputs": [
        {
          "output_type": "stream",
          "name": "stdout",
          "text": [
            "BFS Tree: S A B C D E F G "
          ]
        }
      ]
    },
    {
      "cell_type": "markdown",
      "metadata": {
        "id": "MGVk8g42QAMx"
      },
      "source": [
        "## DFS"
      ]
    },
    {
      "cell_type": "code",
      "execution_count": null,
      "metadata": {
        "colab": {
          "base_uri": "https://localhost:8080/"
        },
        "id": "bA84k93mUf0r",
        "outputId": "e2fb6a6c-9011-4615-e273-28c541908dd0"
      },
      "outputs": [
        {
          "output_type": "stream",
          "name": "stdout",
          "text": [
            "DFS: A E F D C B "
          ]
        }
      ],
      "source": [
        "graph = {\n",
        "    'A' : ['B', 'C','E'],\n",
        "    'B' : ['A', 'C'],\n",
        "    'C' : ['A','B', 'D'],\n",
        "    'D' : ['C', 'E', 'F'],\n",
        "    'E' : ['A', 'D', 'F'],\n",
        "    'F' : ['D', 'E']\n",
        "}\n",
        "\n",
        "start = 'A'\n",
        "\n",
        "def dfs(graph, start):\n",
        "\n",
        "  visited = []\n",
        "  stack = [start]\n",
        "\n",
        "  while stack:\n",
        "\n",
        "    last = stack.pop()\n",
        "\n",
        "    if last not in visited:\n",
        "        visited.append(last)\n",
        "\n",
        "        print(last, end=' ')\n",
        "\n",
        "        for neighbor in graph[last]:\n",
        "            if neighbor not in visited:\n",
        "                stack.append(neighbor)\n",
        "\n",
        "print(\"DFS:\", end=' ')\n",
        "dfs(graph, start)"
      ]
    },
    {
      "cell_type": "code",
      "source": [
        "tree = {\n",
        "    'S': ['A', 'B'],\n",
        "    'A': ['C', 'D'],\n",
        "    'B': ['E'],\n",
        "    'C': ['F'],\n",
        "    'D': ['H','I'],\n",
        "    'E': ['G'],\n",
        "    'F': [],\n",
        "    'G': [],\n",
        "    'H': [],\n",
        "    'I': []\n",
        "}\n",
        "\n",
        "start = 'S'\n",
        "\n",
        "def dfs(tree, start):\n",
        "\n",
        "    visited = []\n",
        "    stack = [start]\n",
        "\n",
        "    while stack:\n",
        "\n",
        "        last = stack.pop()\n",
        "\n",
        "        if last not in visited:\n",
        "            visited.append(last)\n",
        "\n",
        "            print(last, end=' ')\n",
        "\n",
        "            for child in reversed(tree[last]):\n",
        "                if child not in visited:\n",
        "                    stack.append(child)\n",
        "\n",
        "print(\"DFS Tree:\", end=' ')\n",
        "dfs(tree, start)\n"
      ],
      "metadata": {
        "colab": {
          "base_uri": "https://localhost:8080/"
        },
        "id": "KopAo7jUZgr5",
        "outputId": "d141887a-0ca9-4c68-e49c-6bd4420999db"
      },
      "execution_count": null,
      "outputs": [
        {
          "output_type": "stream",
          "name": "stdout",
          "text": [
            "DFS Tree: S A C F D H I B E G "
          ]
        }
      ]
    },
    {
      "cell_type": "markdown",
      "metadata": {
        "id": "ifON_2sEQD9R"
      },
      "source": [
        "## UCS"
      ]
    },
    {
      "cell_type": "code",
      "execution_count": null,
      "metadata": {
        "id": "y8L0ug2jAmNs"
      },
      "outputs": [],
      "source": [
        "class Graph:\n",
        "    def __init__(self, _edges, _weights):\n",
        "        self.edges = _edges\n",
        "        self.weights = _weights\n",
        "\n",
        "    def neighbors(self, node):\n",
        "        return self.edges[node]\n",
        "\n",
        "    def get_cost(self, from_node, to_node):\n",
        "        try:\n",
        "            return self.weights[(from_node + to_node)]\n",
        "        except:\n",
        "            return self.weights[(to_node + from_node)]\n",
        "\n",
        "edges = {\n",
        "    'A': ['B', 'C','E'],\n",
        "    'B': ['A', 'C'],\n",
        "    'C': ['A', 'B','D'],\n",
        "    'D': ['A','B','D'],\n",
        "    'E': ['A','D','F'],\n",
        "    'F': ['D','E']\n",
        "}\n",
        "\n",
        "weights = {\n",
        "    'AB': 1,\n",
        "    'BC': 8,\n",
        "    'AC': 5,\n",
        "    'AE': 4,\n",
        "    'CD': 1,\n",
        "    'ED': 2,\n",
        "    'EF': 1,\n",
        "    'DF': 5\n",
        "}\n",
        "\n",
        "graph = Graph(edges, weights)"
      ]
    },
    {
      "cell_type": "code",
      "execution_count": null,
      "metadata": {
        "colab": {
          "base_uri": "https://localhost:8080/"
        },
        "id": "yKy_0ek0Lb22",
        "outputId": "30a46b0b-97bc-44e0-bc49-f86906b997a1"
      },
      "outputs": [
        {
          "output_type": "stream",
          "name": "stdout",
          "text": [
            "0 A\n",
            "1 B\n",
            "4 E\n",
            "5 C\n",
            "5 F\n",
            "Lowest cost from A to F is 5\n"
          ]
        }
      ],
      "source": [
        "from queue import PriorityQueue\n",
        "\n",
        "def ucs(graph, start, goal):\n",
        "\n",
        "    visited = []\n",
        "    queue = PriorityQueue()\n",
        "\n",
        "    queue.put((0, start))\n",
        "\n",
        "    while not queue.empty():\n",
        "        cost, node = queue.get()\n",
        "        print(cost, node)\n",
        "\n",
        "        if node not in visited:\n",
        "            visited.append(node)\n",
        "\n",
        "            if node == goal:\n",
        "                return cost\n",
        "\n",
        "            for neighbor in graph.neighbors(node):\n",
        "                if neighbor not in visited:\n",
        "                    total_cost = cost + graph.get_cost(node, neighbor)\n",
        "                    queue.put((total_cost, neighbor))\n",
        "\n",
        "    return 'INF'\n",
        "\n",
        "start = 'A'\n",
        "goal = 'F'\n",
        "\n",
        "print(f\"Lowest cost from {start} to {goal} is\", ucs(graph, start, goal))"
      ]
    },
    {
      "cell_type": "code",
      "source": [
        "class tree:\n",
        "    def __init__(self, _nodes, _weights):\n",
        "        self.nodes = _nodes\n",
        "        self.weights = _weights\n",
        "\n",
        "    def neighbors(self, node):\n",
        "        return self.nodes[node]\n",
        "\n",
        "    def get_cost(self, from_node, to_node):\n",
        "        try:\n",
        "            return self.weights[(from_node + to_node)]\n",
        "        except:\n",
        "            return self.weights[(to_node + from_node)]\n",
        "nodes = {\n",
        "    'S': ['A', 'B','C'],\n",
        "    'A': ['D', 'E','G'],\n",
        "    'B': ['G'],\n",
        "    'C': ['G'],\n",
        "    'D': [],\n",
        "    'E': [],\n",
        "    'G': []\n",
        "}\n",
        "\n",
        "weights = {\n",
        "    'SA': 1,\n",
        "    'SB': 5,\n",
        "    'SC': 8,\n",
        "    'AD': 3,\n",
        "    'AE': 7,\n",
        "    'AG': 9,\n",
        "    'BG': 4,\n",
        "    'CG': 5\n",
        "}\n",
        "\n",
        "graph = tree(nodes, weights)"
      ],
      "metadata": {
        "id": "hf-zcjQS9mS6"
      },
      "execution_count": 2,
      "outputs": []
    },
    {
      "cell_type": "code",
      "source": [
        "from queue import PriorityQueue\n",
        "\n",
        "def ucs(graph, start, goal):\n",
        "\n",
        "    visited = []\n",
        "    queue = PriorityQueue()\n",
        "\n",
        "    queue.put((0, start))\n",
        "\n",
        "    while not queue.empty():\n",
        "        cost, node = queue.get()\n",
        "        print(cost, node)\n",
        "\n",
        "        if node not in visited:\n",
        "            visited.append(node)\n",
        "\n",
        "            if node == goal:\n",
        "                return cost\n",
        "\n",
        "            for neighbor in graph.neighbors(node):\n",
        "                if neighbor not in visited:\n",
        "                    total_cost = cost + graph.get_cost(node, neighbor)\n",
        "                    queue.put((total_cost, neighbor))\n",
        "\n",
        "    return 'INF'\n",
        "\n",
        "start = 'S'\n",
        "goal = 'G'\n",
        "\n",
        "print(f\"Lowest cost from {start} to {goal} is\", ucs(graph, start, goal))"
      ],
      "metadata": {
        "colab": {
          "base_uri": "https://localhost:8080/"
        },
        "id": "2xq9DVrT9qFH",
        "outputId": "d617dd2e-5133-41a0-c63f-c5b0be4629be"
      },
      "execution_count": 3,
      "outputs": [
        {
          "output_type": "stream",
          "name": "stdout",
          "text": [
            "0 S\n",
            "1 A\n",
            "4 D\n",
            "5 B\n",
            "8 C\n",
            "8 E\n",
            "9 G\n",
            "Lowest cost from S to G is 9\n"
          ]
        }
      ]
    }
  ],
  "metadata": {
    "colab": {
      "provenance": []
    },
    "kernelspec": {
      "display_name": "Python 3",
      "name": "python3"
    },
    "language_info": {
      "codemirror_mode": {
        "name": "ipython",
        "version": 3
      },
      "file_extension": ".py",
      "mimetype": "text/x-python",
      "name": "python",
      "nbconvert_exporter": "python",
      "pygments_lexer": "ipython3",
      "version": "3.9.0"
    },
    "vscode": {
      "interpreter": {
        "hash": "8f939dc046ae95b61db57b1ddfb635e5199eac9f7bf30422bfd106b8f44dc254"
      }
    }
  },
  "nbformat": 4,
  "nbformat_minor": 0
}